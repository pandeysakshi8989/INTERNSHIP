{
  "nbformat": 4,
  "nbformat_minor": 0,
  "metadata": {
    "colab": {
      "provenance": []
    },
    "kernelspec": {
      "name": "python3",
      "display_name": "Python 3"
    },
    "language_info": {
      "name": "python"
    }
  },
  "cells": [
    {
      "cell_type": "code",
      "source": [
        "import pandas as pd\n",
        "from nltk.stem.porter import PorterStemmer"
      ],
      "metadata": {
        "id": "T5k5fc90t23b"
      },
      "execution_count": 15,
      "outputs": []
    },
    {
      "cell_type": "code",
      "execution_count": 16,
      "metadata": {
        "colab": {
          "base_uri": "https://localhost:8080/"
        },
        "id": "gCAbng7_s2aJ",
        "outputId": "2561233a-ff13-4e5d-a2f9-91ba6db65c8b"
      },
      "outputs": [
        {
          "output_type": "stream",
          "name": "stderr",
          "text": [
            "[nltk_data] Downloading package stopwords to /root/nltk_data...\n",
            "[nltk_data]   Package stopwords is already up-to-date!\n"
          ]
        },
        {
          "output_type": "execute_result",
          "data": {
            "text/plain": [
              "True"
            ]
          },
          "metadata": {},
          "execution_count": 16
        }
      ],
      "source": [
        "import nltk\n",
        "from nltk.corpus import stopwords\n",
        "nltk.download('stopwords')"
      ]
    },
    {
      "cell_type": "code",
      "source": [
        "df = pd.read_csv('/content/Restaurant_Reviews 1.tsv', delimiter = '\\t', quoting =3)"
      ],
      "metadata": {
        "id": "SdfdwRhh1KR4"
      },
      "execution_count": 11,
      "outputs": []
    },
    {
      "cell_type": "code",
      "source": [
        "df.head()"
      ],
      "metadata": {
        "colab": {
          "base_uri": "https://localhost:8080/",
          "height": 206
        },
        "id": "wKy4ljpF3fdq",
        "outputId": "e6504448-0bfa-43ee-ef58-797c427c9e0f"
      },
      "execution_count": 17,
      "outputs": [
        {
          "output_type": "execute_result",
          "data": {
            "text/plain": [
              "                                              Review  Liked\n",
              "0                           Wow... Loved this place.      1\n",
              "1                                 Crust is not good.      0\n",
              "2          Not tasty and the texture was just nasty.      0\n",
              "3  Stopped by during the late May bank holiday of...      1\n",
              "4  The selection on the menu was great and so wer...      1"
            ],
            "text/html": [
              "\n",
              "  <div id=\"df-b4eafada-7a88-4b57-abba-1376c81a144d\" class=\"colab-df-container\">\n",
              "    <div>\n",
              "<style scoped>\n",
              "    .dataframe tbody tr th:only-of-type {\n",
              "        vertical-align: middle;\n",
              "    }\n",
              "\n",
              "    .dataframe tbody tr th {\n",
              "        vertical-align: top;\n",
              "    }\n",
              "\n",
              "    .dataframe thead th {\n",
              "        text-align: right;\n",
              "    }\n",
              "</style>\n",
              "<table border=\"1\" class=\"dataframe\">\n",
              "  <thead>\n",
              "    <tr style=\"text-align: right;\">\n",
              "      <th></th>\n",
              "      <th>Review</th>\n",
              "      <th>Liked</th>\n",
              "    </tr>\n",
              "  </thead>\n",
              "  <tbody>\n",
              "    <tr>\n",
              "      <th>0</th>\n",
              "      <td>Wow... Loved this place.</td>\n",
              "      <td>1</td>\n",
              "    </tr>\n",
              "    <tr>\n",
              "      <th>1</th>\n",
              "      <td>Crust is not good.</td>\n",
              "      <td>0</td>\n",
              "    </tr>\n",
              "    <tr>\n",
              "      <th>2</th>\n",
              "      <td>Not tasty and the texture was just nasty.</td>\n",
              "      <td>0</td>\n",
              "    </tr>\n",
              "    <tr>\n",
              "      <th>3</th>\n",
              "      <td>Stopped by during the late May bank holiday of...</td>\n",
              "      <td>1</td>\n",
              "    </tr>\n",
              "    <tr>\n",
              "      <th>4</th>\n",
              "      <td>The selection on the menu was great and so wer...</td>\n",
              "      <td>1</td>\n",
              "    </tr>\n",
              "  </tbody>\n",
              "</table>\n",
              "</div>\n",
              "    <div class=\"colab-df-buttons\">\n",
              "\n",
              "  <div class=\"colab-df-container\">\n",
              "    <button class=\"colab-df-convert\" onclick=\"convertToInteractive('df-b4eafada-7a88-4b57-abba-1376c81a144d')\"\n",
              "            title=\"Convert this dataframe to an interactive table.\"\n",
              "            style=\"display:none;\">\n",
              "\n",
              "  <svg xmlns=\"http://www.w3.org/2000/svg\" height=\"24px\" viewBox=\"0 -960 960 960\">\n",
              "    <path d=\"M120-120v-720h720v720H120Zm60-500h600v-160H180v160Zm220 220h160v-160H400v160Zm0 220h160v-160H400v160ZM180-400h160v-160H180v160Zm440 0h160v-160H620v160ZM180-180h160v-160H180v160Zm440 0h160v-160H620v160Z\"/>\n",
              "  </svg>\n",
              "    </button>\n",
              "\n",
              "  <style>\n",
              "    .colab-df-container {\n",
              "      display:flex;\n",
              "      gap: 12px;\n",
              "    }\n",
              "\n",
              "    .colab-df-convert {\n",
              "      background-color: #E8F0FE;\n",
              "      border: none;\n",
              "      border-radius: 50%;\n",
              "      cursor: pointer;\n",
              "      display: none;\n",
              "      fill: #1967D2;\n",
              "      height: 32px;\n",
              "      padding: 0 0 0 0;\n",
              "      width: 32px;\n",
              "    }\n",
              "\n",
              "    .colab-df-convert:hover {\n",
              "      background-color: #E2EBFA;\n",
              "      box-shadow: 0px 1px 2px rgba(60, 64, 67, 0.3), 0px 1px 3px 1px rgba(60, 64, 67, 0.15);\n",
              "      fill: #174EA6;\n",
              "    }\n",
              "\n",
              "    .colab-df-buttons div {\n",
              "      margin-bottom: 4px;\n",
              "    }\n",
              "\n",
              "    [theme=dark] .colab-df-convert {\n",
              "      background-color: #3B4455;\n",
              "      fill: #D2E3FC;\n",
              "    }\n",
              "\n",
              "    [theme=dark] .colab-df-convert:hover {\n",
              "      background-color: #434B5C;\n",
              "      box-shadow: 0px 1px 3px 1px rgba(0, 0, 0, 0.15);\n",
              "      filter: drop-shadow(0px 1px 2px rgba(0, 0, 0, 0.3));\n",
              "      fill: #FFFFFF;\n",
              "    }\n",
              "  </style>\n",
              "\n",
              "    <script>\n",
              "      const buttonEl =\n",
              "        document.querySelector('#df-b4eafada-7a88-4b57-abba-1376c81a144d button.colab-df-convert');\n",
              "      buttonEl.style.display =\n",
              "        google.colab.kernel.accessAllowed ? 'block' : 'none';\n",
              "\n",
              "      async function convertToInteractive(key) {\n",
              "        const element = document.querySelector('#df-b4eafada-7a88-4b57-abba-1376c81a144d');\n",
              "        const dataTable =\n",
              "          await google.colab.kernel.invokeFunction('convertToInteractive',\n",
              "                                                    [key], {});\n",
              "        if (!dataTable) return;\n",
              "\n",
              "        const docLinkHtml = 'Like what you see? Visit the ' +\n",
              "          '<a target=\"_blank\" href=https://colab.research.google.com/notebooks/data_table.ipynb>data table notebook</a>'\n",
              "          + ' to learn more about interactive tables.';\n",
              "        element.innerHTML = '';\n",
              "        dataTable['output_type'] = 'display_data';\n",
              "        await google.colab.output.renderOutput(dataTable, element);\n",
              "        const docLink = document.createElement('div');\n",
              "        docLink.innerHTML = docLinkHtml;\n",
              "        element.appendChild(docLink);\n",
              "      }\n",
              "    </script>\n",
              "  </div>\n",
              "\n",
              "\n",
              "<div id=\"df-4ab9e579-79c4-4b5e-9abe-ef18bdd22a6e\">\n",
              "  <button class=\"colab-df-quickchart\" onclick=\"quickchart('df-4ab9e579-79c4-4b5e-9abe-ef18bdd22a6e')\"\n",
              "            title=\"Suggest charts\"\n",
              "            style=\"display:none;\">\n",
              "\n",
              "<svg xmlns=\"http://www.w3.org/2000/svg\" height=\"24px\"viewBox=\"0 0 24 24\"\n",
              "     width=\"24px\">\n",
              "    <g>\n",
              "        <path d=\"M19 3H5c-1.1 0-2 .9-2 2v14c0 1.1.9 2 2 2h14c1.1 0 2-.9 2-2V5c0-1.1-.9-2-2-2zM9 17H7v-7h2v7zm4 0h-2V7h2v10zm4 0h-2v-4h2v4z\"/>\n",
              "    </g>\n",
              "</svg>\n",
              "  </button>\n",
              "\n",
              "<style>\n",
              "  .colab-df-quickchart {\n",
              "      --bg-color: #E8F0FE;\n",
              "      --fill-color: #1967D2;\n",
              "      --hover-bg-color: #E2EBFA;\n",
              "      --hover-fill-color: #174EA6;\n",
              "      --disabled-fill-color: #AAA;\n",
              "      --disabled-bg-color: #DDD;\n",
              "  }\n",
              "\n",
              "  [theme=dark] .colab-df-quickchart {\n",
              "      --bg-color: #3B4455;\n",
              "      --fill-color: #D2E3FC;\n",
              "      --hover-bg-color: #434B5C;\n",
              "      --hover-fill-color: #FFFFFF;\n",
              "      --disabled-bg-color: #3B4455;\n",
              "      --disabled-fill-color: #666;\n",
              "  }\n",
              "\n",
              "  .colab-df-quickchart {\n",
              "    background-color: var(--bg-color);\n",
              "    border: none;\n",
              "    border-radius: 50%;\n",
              "    cursor: pointer;\n",
              "    display: none;\n",
              "    fill: var(--fill-color);\n",
              "    height: 32px;\n",
              "    padding: 0;\n",
              "    width: 32px;\n",
              "  }\n",
              "\n",
              "  .colab-df-quickchart:hover {\n",
              "    background-color: var(--hover-bg-color);\n",
              "    box-shadow: 0 1px 2px rgba(60, 64, 67, 0.3), 0 1px 3px 1px rgba(60, 64, 67, 0.15);\n",
              "    fill: var(--button-hover-fill-color);\n",
              "  }\n",
              "\n",
              "  .colab-df-quickchart-complete:disabled,\n",
              "  .colab-df-quickchart-complete:disabled:hover {\n",
              "    background-color: var(--disabled-bg-color);\n",
              "    fill: var(--disabled-fill-color);\n",
              "    box-shadow: none;\n",
              "  }\n",
              "\n",
              "  .colab-df-spinner {\n",
              "    border: 2px solid var(--fill-color);\n",
              "    border-color: transparent;\n",
              "    border-bottom-color: var(--fill-color);\n",
              "    animation:\n",
              "      spin 1s steps(1) infinite;\n",
              "  }\n",
              "\n",
              "  @keyframes spin {\n",
              "    0% {\n",
              "      border-color: transparent;\n",
              "      border-bottom-color: var(--fill-color);\n",
              "      border-left-color: var(--fill-color);\n",
              "    }\n",
              "    20% {\n",
              "      border-color: transparent;\n",
              "      border-left-color: var(--fill-color);\n",
              "      border-top-color: var(--fill-color);\n",
              "    }\n",
              "    30% {\n",
              "      border-color: transparent;\n",
              "      border-left-color: var(--fill-color);\n",
              "      border-top-color: var(--fill-color);\n",
              "      border-right-color: var(--fill-color);\n",
              "    }\n",
              "    40% {\n",
              "      border-color: transparent;\n",
              "      border-right-color: var(--fill-color);\n",
              "      border-top-color: var(--fill-color);\n",
              "    }\n",
              "    60% {\n",
              "      border-color: transparent;\n",
              "      border-right-color: var(--fill-color);\n",
              "    }\n",
              "    80% {\n",
              "      border-color: transparent;\n",
              "      border-right-color: var(--fill-color);\n",
              "      border-bottom-color: var(--fill-color);\n",
              "    }\n",
              "    90% {\n",
              "      border-color: transparent;\n",
              "      border-bottom-color: var(--fill-color);\n",
              "    }\n",
              "  }\n",
              "</style>\n",
              "\n",
              "  <script>\n",
              "    async function quickchart(key) {\n",
              "      const quickchartButtonEl =\n",
              "        document.querySelector('#' + key + ' button');\n",
              "      quickchartButtonEl.disabled = true;  // To prevent multiple clicks.\n",
              "      quickchartButtonEl.classList.add('colab-df-spinner');\n",
              "      try {\n",
              "        const charts = await google.colab.kernel.invokeFunction(\n",
              "            'suggestCharts', [key], {});\n",
              "      } catch (error) {\n",
              "        console.error('Error during call to suggestCharts:', error);\n",
              "      }\n",
              "      quickchartButtonEl.classList.remove('colab-df-spinner');\n",
              "      quickchartButtonEl.classList.add('colab-df-quickchart-complete');\n",
              "    }\n",
              "    (() => {\n",
              "      let quickchartButtonEl =\n",
              "        document.querySelector('#df-4ab9e579-79c4-4b5e-9abe-ef18bdd22a6e button');\n",
              "      quickchartButtonEl.style.display =\n",
              "        google.colab.kernel.accessAllowed ? 'block' : 'none';\n",
              "    })();\n",
              "  </script>\n",
              "</div>\n",
              "\n",
              "    </div>\n",
              "  </div>\n"
            ],
            "application/vnd.google.colaboratory.intrinsic+json": {
              "type": "dataframe",
              "variable_name": "df",
              "summary": "{\n  \"name\": \"df\",\n  \"rows\": 1000,\n  \"fields\": [\n    {\n      \"column\": \"Review\",\n      \"properties\": {\n        \"dtype\": \"string\",\n        \"num_unique_values\": 996,\n        \"samples\": [\n          \"They were excellent.\",\n          \"Your servers suck, wait, correction, our server Heimer sucked.\",\n          \"Will be back again!\"\n        ],\n        \"semantic_type\": \"\",\n        \"description\": \"\"\n      }\n    },\n    {\n      \"column\": \"Liked\",\n      \"properties\": {\n        \"dtype\": \"number\",\n        \"std\": 0,\n        \"min\": 0,\n        \"max\": 1,\n        \"num_unique_values\": 2,\n        \"samples\": [\n          0,\n          1\n        ],\n        \"semantic_type\": \"\",\n        \"description\": \"\"\n      }\n    }\n  ]\n}"
            }
          },
          "metadata": {},
          "execution_count": 17
        }
      ]
    },
    {
      "cell_type": "code",
      "source": [
        "df.shape"
      ],
      "metadata": {
        "colab": {
          "base_uri": "https://localhost:8080/"
        },
        "id": "UMHSAniJ3lx3",
        "outputId": "e0932732-33f4-481c-9bc8-0388d01384e0"
      },
      "execution_count": 23,
      "outputs": [
        {
          "output_type": "execute_result",
          "data": {
            "text/plain": [
              "(1000, 2)"
            ]
          },
          "metadata": {},
          "execution_count": 23
        }
      ]
    },
    {
      "cell_type": "code",
      "source": [
        "import re"
      ],
      "metadata": {
        "id": "sx4G-dNH4RlU"
      },
      "execution_count": 22,
      "outputs": []
    },
    {
      "cell_type": "code",
      "source": [
        "corpus = []\n",
        "for i in range(0,1000):\n",
        "  review = re.sub(pattern = '[^a-zA-Z]', repl =' ', string =df['Review'][i])\n",
        "  review= review.lower()\n",
        "  review_word = review.split()\n",
        "  review_word = [word for word in review_word if not word in set(stopwords.words('english'))]\n",
        "  ps = PorterStemmer()\n",
        "  review1 = [ps.stem(word) for word in review_word]\n",
        "  #Join the stemmed words back into a single string\n",
        "  review = ' '.join(review1)\n",
        "  corpus.append(review)"
      ],
      "metadata": {
        "id": "4O5XyIvc4E-S"
      },
      "execution_count": 24,
      "outputs": []
    },
    {
      "cell_type": "code",
      "source": [
        "from sklearn.feature_extraction.text import TfidfVectorizer"
      ],
      "metadata": {
        "id": "Xp1Vdy9A3zpS"
      },
      "execution_count": 19,
      "outputs": []
    },
    {
      "cell_type": "code",
      "source": [
        "vectorizer = TfidfVectorizer()\n",
        "X = vectorizer.fit_transform(corpus)\n",
        "\n",
        "tfid_df = pd.DataFrame(X.todense(), columns=vectorizer.get_feature_names_out())\n",
        "print(tfid_df.tail(30))"
      ],
      "metadata": {
        "colab": {
          "base_uri": "https://localhost:8080/"
        },
        "collapsed": true,
        "id": "ov-djH3S38Cd",
        "outputId": "01c0e95a-e348-406d-b388-28cf61b43f8c"
      },
      "execution_count": 25,
      "outputs": [
        {
          "output_type": "stream",
          "name": "stdout",
          "text": [
            "     absolut  absolutley  accid  accommod  accomod  accordingli  account  ach  \\\n",
            "970      0.0         0.0    0.0       0.0      0.0          0.0      0.0  0.0   \n",
            "971      0.0         0.0    0.0       0.0      0.0          0.0      0.0  0.0   \n",
            "972      0.0         0.0    0.0       0.0      0.0          0.0      0.0  0.0   \n",
            "973      0.0         0.0    0.0       0.0      0.0          0.0      0.0  0.0   \n",
            "974      0.0         0.0    0.0       0.0      0.0          0.0      0.0  0.0   \n",
            "975      0.0         0.0    0.0       0.0      0.0          0.0      0.0  0.0   \n",
            "976      0.0         0.0    0.0       0.0      0.0          0.0      0.0  0.0   \n",
            "977      0.0         0.0    0.0       0.0      0.0          0.0      0.0  0.0   \n",
            "978      0.0         0.0    0.0       0.0      0.0          0.0      0.0  0.0   \n",
            "979      0.0         0.0    0.0       0.0      0.0          0.0      0.0  0.0   \n",
            "980      0.0         0.0    0.0       0.0      0.0          0.0      0.0  0.0   \n",
            "981      0.0         0.0    0.0       0.0      0.0          0.0      0.0  0.0   \n",
            "982      0.0         0.0    0.0       0.0      0.0          0.0      0.0  0.0   \n",
            "983      0.0         0.0    0.0       0.0      0.0          0.0      0.0  0.0   \n",
            "984      0.0         0.0    0.0       0.0      0.0          0.0      0.0  0.0   \n",
            "985      0.0         0.0    0.0       0.0      0.0          0.0      0.0  0.0   \n",
            "986      0.0         0.0    0.0       0.0      0.0          0.0      0.0  0.0   \n",
            "987      0.0         0.0    0.0       0.0      0.0          0.0      0.0  0.0   \n",
            "988      0.0         0.0    0.0       0.0      0.0          0.0      0.0  0.0   \n",
            "989      0.0         0.0    0.0       0.0      0.0          0.0      0.0  0.0   \n",
            "990      0.0         0.0    0.0       0.0      0.0          0.0      0.0  0.0   \n",
            "991      0.0         0.0    0.0       0.0      0.0          0.0      0.0  0.0   \n",
            "992      0.0         0.0    0.0       0.0      0.0          0.0      0.0  0.0   \n",
            "993      0.0         0.0    0.0       0.0      0.0          0.0      0.0  0.0   \n",
            "994      0.0         0.0    0.0       0.0      0.0          0.0      0.0  0.0   \n",
            "995      0.0         0.0    0.0       0.0      0.0          0.0      0.0  0.0   \n",
            "996      0.0         0.0    0.0       0.0      0.0          0.0      0.0  0.0   \n",
            "997      0.0         0.0    0.0       0.0      0.0          0.0      0.0  0.0   \n",
            "998      0.0         0.0    0.0       0.0      0.0          0.0      0.0  0.0   \n",
            "999      0.0         0.0    0.0       0.0      0.0          0.0      0.0  0.0   \n",
            "\n",
            "     acknowledg  across  ...  year  yellow  yellowtail  yelper       yet  \\\n",
            "970         0.0     0.0  ...   0.0     0.0         0.0     0.0  0.000000   \n",
            "971         0.0     0.0  ...   0.0     0.0         0.0     0.0  0.000000   \n",
            "972         0.0     0.0  ...   0.0     0.0         0.0     0.0  0.000000   \n",
            "973         0.0     0.0  ...   0.0     0.0         0.0     0.0  0.000000   \n",
            "974         0.0     0.0  ...   0.0     0.0         0.0     0.0  0.000000   \n",
            "975         0.0     0.0  ...   0.0     0.0         0.0     0.0  0.000000   \n",
            "976         0.0     0.0  ...   0.0     0.0         0.0     0.0  0.000000   \n",
            "977         0.0     0.0  ...   0.0     0.0         0.0     0.0  0.000000   \n",
            "978         0.0     0.0  ...   0.0     0.0         0.0     0.0  0.000000   \n",
            "979         0.0     0.0  ...   0.0     0.0         0.0     0.0  0.397438   \n",
            "980         0.0     0.0  ...   0.0     0.0         0.0     0.0  0.000000   \n",
            "981         0.0     0.0  ...   0.0     0.0         0.0     0.0  0.000000   \n",
            "982         0.0     0.0  ...   0.0     0.0         0.0     0.0  0.000000   \n",
            "983         0.0     0.0  ...   0.0     0.0         0.0     0.0  0.000000   \n",
            "984         0.0     0.0  ...   0.0     0.0         0.0     0.0  0.000000   \n",
            "985         0.0     0.0  ...   0.0     0.0         0.0     0.0  0.000000   \n",
            "986         0.0     0.0  ...   0.0     0.0         0.0     0.0  0.000000   \n",
            "987         0.0     0.0  ...   0.0     0.0         0.0     0.0  0.000000   \n",
            "988         0.0     0.0  ...   0.0     0.0         0.0     0.0  0.000000   \n",
            "989         0.0     0.0  ...   0.0     0.0         0.0     0.0  0.000000   \n",
            "990         0.0     0.0  ...   0.0     0.0         0.0     0.0  0.000000   \n",
            "991         0.0     0.0  ...   0.0     0.0         0.0     0.0  0.000000   \n",
            "992         0.0     0.0  ...   0.0     0.0         0.0     0.0  0.000000   \n",
            "993         0.0     0.0  ...   0.0     0.0         0.0     0.0  0.000000   \n",
            "994         0.0     0.0  ...   0.0     0.0         0.0     0.0  0.000000   \n",
            "995         0.0     0.0  ...   0.0     0.0         0.0     0.0  0.000000   \n",
            "996         0.0     0.0  ...   0.0     0.0         0.0     0.0  0.000000   \n",
            "997         0.0     0.0  ...   0.0     0.0         0.0     0.0  0.000000   \n",
            "998         0.0     0.0  ...   0.0     0.0         0.0     0.0  0.000000   \n",
            "999         0.0     0.0  ...   0.0     0.0         0.0     0.0  0.000000   \n",
            "\n",
            "     yucki  yukon  yum  yummi  zero  \n",
            "970    0.0    0.0  0.0    0.0   0.0  \n",
            "971    0.0    0.0  0.0    0.0   0.0  \n",
            "972    0.0    0.0  0.0    0.0   0.0  \n",
            "973    0.0    0.0  0.0    0.0   0.0  \n",
            "974    0.0    0.0  0.0    0.0   0.0  \n",
            "975    0.0    0.0  0.0    0.0   0.0  \n",
            "976    0.0    0.0  0.0    0.0   0.0  \n",
            "977    0.0    0.0  0.0    0.0   0.0  \n",
            "978    0.0    0.0  0.0    0.0   0.0  \n",
            "979    0.0    0.0  0.0    0.0   0.0  \n",
            "980    0.0    0.0  0.0    0.0   0.0  \n",
            "981    0.0    0.0  0.0    0.0   0.0  \n",
            "982    0.0    0.0  0.0    0.0   0.0  \n",
            "983    0.0    0.0  0.0    0.0   0.0  \n",
            "984    0.0    0.0  0.0    0.0   0.0  \n",
            "985    0.0    0.0  0.0    0.0   0.0  \n",
            "986    0.0    0.0  0.0    0.0   0.0  \n",
            "987    0.0    0.0  0.0    0.0   0.0  \n",
            "988    0.0    0.0  0.0    0.0   0.0  \n",
            "989    0.0    0.0  0.0    0.0   0.0  \n",
            "990    0.0    0.0  0.0    0.0   0.0  \n",
            "991    0.0    0.0  0.0    0.0   0.0  \n",
            "992    0.0    0.0  0.0    0.0   0.0  \n",
            "993    0.0    0.0  0.0    0.0   0.0  \n",
            "994    0.0    0.0  0.0    0.0   0.0  \n",
            "995    0.0    0.0  0.0    0.0   0.0  \n",
            "996    0.0    0.0  0.0    0.0   0.0  \n",
            "997    0.0    0.0  0.0    0.0   0.0  \n",
            "998    0.0    0.0  0.0    0.0   0.0  \n",
            "999    0.0    0.0  0.0    0.0   0.0  \n",
            "\n",
            "[30 rows x 1565 columns]\n"
          ]
        }
      ]
    },
    {
      "cell_type": "code",
      "source": [
        "ps = PorterStemmer()\n",
        "words =[\"eat\",\"eating\",\"read\",\"reading\",\"congratulations\",\"eaten\"]\n",
        "for word in words:\n",
        "  print(ps.stem(word))"
      ],
      "metadata": {
        "colab": {
          "base_uri": "https://localhost:8080/"
        },
        "id": "8PO4QD9rtbbU",
        "outputId": "6854e3cc-94dd-4a5b-a54a-f773ec88ca70"
      },
      "execution_count": 4,
      "outputs": [
        {
          "output_type": "stream",
          "name": "stdout",
          "text": [
            "eat\n",
            "eat\n",
            "read\n",
            "read\n",
            "congratul\n",
            "eaten\n"
          ]
        }
      ]
    },
    {
      "cell_type": "code",
      "source": [
        "from nltk.stem import WordNetLemmatizer"
      ],
      "metadata": {
        "id": "J8BEkH5Dt3_P"
      },
      "execution_count": 5,
      "outputs": []
    },
    {
      "cell_type": "code",
      "source": [
        "import nltk\n",
        "nltk.download('wordnet')\n",
        "lemma = WordNetLemmatizer()\n",
        "words =[\"eat\",\"eating\",\"read\",\"reading\",\"congratulations\",\"eaten\"]\n",
        "for word in words:\n",
        "  print(lemma.lemmatize(word))"
      ],
      "metadata": {
        "colab": {
          "base_uri": "https://localhost:8080/"
        },
        "id": "3k0GG3SVufDk",
        "outputId": "2199f70d-1c34-428e-c4a1-87c896ff63cc"
      },
      "execution_count": 6,
      "outputs": [
        {
          "output_type": "stream",
          "name": "stderr",
          "text": [
            "[nltk_data] Downloading package wordnet to /root/nltk_data...\n"
          ]
        },
        {
          "output_type": "stream",
          "name": "stdout",
          "text": [
            "eat\n",
            "eating\n",
            "read\n",
            "reading\n",
            "congratulation\n",
            "eaten\n"
          ]
        }
      ]
    },
    {
      "cell_type": "code",
      "source": [
        "import numpy as np\n",
        "from sklearn.decomposition import PCA\n",
        "from sklearn.preprocessing import StandardScaler"
      ],
      "metadata": {
        "id": "HKobIPyuuzfZ"
      },
      "execution_count": 7,
      "outputs": []
    },
    {
      "cell_type": "code",
      "source": [
        "scaler = StandardScaler()\n",
        "data_standarized = scaler.fit_transform(tfid_df)\n",
        "\n",
        "pca = PCA(n_components=2)\n",
        "principal_components = pca.fit_transform(data_standarized)"
      ],
      "metadata": {
        "id": "GuGTjlBavQrf"
      },
      "execution_count": 26,
      "outputs": []
    },
    {
      "cell_type": "code",
      "source": [
        "principal_df = pd.DataFrame(data = principal_components, columns = ['principal component 1', 'principal component 2'])\n",
        "print(principal_df.head())"
      ],
      "metadata": {
        "colab": {
          "base_uri": "https://localhost:8080/"
        },
        "id": "-XoBZ4M8171Y",
        "outputId": "7be18936-0814-4e7d-d6d0-f49ab95e0f71"
      },
      "execution_count": 32,
      "outputs": [
        {
          "output_type": "stream",
          "name": "stdout",
          "text": [
            "   principal component 1  principal component 2\n",
            "0              -0.096543              -0.100831\n",
            "1              -0.080917              -0.099793\n",
            "2              -0.105197              -0.124104\n",
            "3              -1.271807              -0.072593\n",
            "4              -0.087132              -0.118267\n"
          ]
        }
      ]
    },
    {
      "cell_type": "code",
      "source": [
        "import matplotlib.pyplot as plt\n",
        "plt.figure(figsize=(8, 6))\n",
        "plt.scatter(principal_df['principal component 1'], principal_df['principal component 2'])\n",
        "plt.xlabel('Principal Component 1')\n",
        "plt.ylabel('Principal Component 2')\n",
        "plt.title('PCA of Restaurant Reviews')\n",
        "plt.show()"
      ],
      "metadata": {
        "colab": {
          "base_uri": "https://localhost:8080/",
          "height": 564
        },
        "id": "xJ016x637Xav",
        "outputId": "126ffb59-e0b2-4ec2-b7b7-2d2effda6e08"
      },
      "execution_count": 31,
      "outputs": [
        {
          "output_type": "display_data",
          "data": {
            "text/plain": [
              "<Figure size 800x600 with 1 Axes>"
            ],
            "image/png": "[encoded data removed]"
          },
          "metadata": {}
        }
      ]
    },
    {
      "cell_type": "code",
      "source": [
        "plt.figure(figsize=(10, 6))\n",
        "plt.plot(principal_df['principal component 1'], principal_df['principal component 2'])\n",
        "plt.xlabel('Principal Component 1')\n",
        "plt.ylabel('Principal Component 2')\n",
        "plt.title('PCA of Restaurant Reviews')\n",
        "plt.grid(True)\n",
        "plt.show()"
      ],
      "metadata": {
        "colab": {
          "base_uri": "https://localhost:8080/",
          "height": 559
        },
        "id": "ru40XqaL7jel",
        "outputId": "aed11108-22d9-4fe6-d51f-4eb2ac507126"
      },
      "execution_count": 30,
      "outputs": [
        {
          "output_type": "display_data",
          "data": {
            "text/plain": [
              "<Figure size 1000x600 with 1 Axes>"
            ],
            "image/png": "[encoded data removed]"
          },
          "metadata": {}
        }
      ]
    }
  ]
}